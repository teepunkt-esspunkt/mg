{
 "cells": [
  {
   "cell_type": "code",
   "execution_count": null,
   "id": "bf205ae3-96ed-4aab-b515-6117462e4565",
   "metadata": {},
   "outputs": [],
   "source": [
    "import math\n",
    "import random\n",
    "import numpy as np\n",
    "import matplotlib.pyplot as plt\n",
    "%matplotlib inline"
   ]
  },
  {
   "cell_type": "code",
   "execution_count": null,
   "id": "107974b0-50a2-470a-85f8-62f403c69371",
   "metadata": {},
   "outputs": [],
   "source": [
    "def f(x):\n",
    "    return 3*x**2 - 4*x + 5"
   ]
  },
  {
   "cell_type": "code",
   "execution_count": null,
   "id": "b7a9da79-b0c9-4f2f-9bad-dc920dc154c3",
   "metadata": {},
   "outputs": [],
   "source": [
    "f(3.0)"
   ]
  },
  {
   "cell_type": "code",
   "execution_count": null,
   "id": "37514ed3-a975-4872-8f91-25b3ad592c6b",
   "metadata": {},
   "outputs": [],
   "source": [
    "xs = np.arange(-5, 5, 0.25)\n",
    "ys = f(xs)\n",
    "plt.plot(xs, ys)"
   ]
  },
  {
   "cell_type": "code",
   "execution_count": null,
   "id": "a96e6500-60ea-4794-a392-86bba53c353a",
   "metadata": {},
   "outputs": [],
   "source": [
    "h = 0.000001\n",
    "x = 2/3\n",
    "(f(x + h) - f(x))/h"
   ]
  },
  {
   "cell_type": "code",
   "execution_count": null,
   "id": "a98199b7-0d6b-44ce-b3a1-02ec6377eafb",
   "metadata": {},
   "outputs": [],
   "source": [
    "# complexer\n",
    "a = 2.0\n",
    "b = -3.0\n",
    "c = 10.0\n",
    "d = a * b + c\n",
    "print(d)"
   ]
  },
  {
   "cell_type": "code",
   "execution_count": null,
   "id": "cad8d9b1-49ea-4c44-ac38-cc732fbd087f",
   "metadata": {},
   "outputs": [],
   "source": [
    "h = 0.0001\n",
    "\n",
    "# inputs\n",
    "a = 2.0\n",
    "b = -3.0\n",
    "c = 10.0\n",
    "\n",
    "d1 = a * b + c\n",
    "c += h\n",
    "d2 = a * b + c\n",
    "\n",
    "print('d1', d1)\n",
    "print('d2', d2)\n",
    "print('slope', (d2 - d1) / h)\n"
   ]
  },
  {
   "cell_type": "code",
   "execution_count": null,
   "id": "56f1e779-0dcc-4dc1-91b3-9128cbc21663",
   "metadata": {
    "tags": []
   },
   "outputs": [],
   "source": [
    "class Value:\n",
    "    \n",
    "    def __init__(self, data, _children=(), _op='', label=''):\n",
    "        self.data = data\n",
    "        self.grad = 0.0\n",
    "        self._backward = lambda: None\n",
    "        self._prev = set(_children)\n",
    "        self._op = _op\n",
    "        self.label = label\n",
    "        \n",
    "    def __repr__(self):\n",
    "        return f\"Value(data={self.data})\"\n",
    "        \n",
    "    def __add__(self, other):\n",
    "        other = other if isinstance(other, Value) else Value(other)\n",
    "        out = Value(self.data + other.data, (self, other), '+')\n",
    "        \n",
    "        def _backward():\n",
    "            self.grad += 1.0 * out.grad\n",
    "            other.grad += 1.0 * out.grad\n",
    "        out._backward = _backward\n",
    "        \n",
    "        return out\n",
    "        \n",
    "    def __mul__(self, other):\n",
    "        other = other if isinstance(other, Value) else Value(other)\n",
    "        out = Value(self.data * other.data, (self, other), '*')\n",
    "        \n",
    "        def _backward():\n",
    "            self.grad += other.data * out.grad\n",
    "            other.grad += self.data * out.grad\n",
    "        out._backward = _backward\n",
    "        \n",
    "        return out\n",
    "    \n",
    "    def __pow__(self, other):\n",
    "        assert isinstance(other, (int, float)), \"only supporting int/float power fow now\"\n",
    "        out = Value(self.data**other, (self,), f'**{other}')\n",
    "        \n",
    "        def _backward():\n",
    "            self.grad += other * (self.data ** (other -1)) * out.grad\n",
    "        out._backward = _backward\n",
    "        \n",
    "        return out\n",
    "        \n",
    "    def __rmul__(self, other): # other * self\n",
    "        return self * other\n",
    "    \n",
    "    def __truediv__(self, other): # self / other\n",
    "        return self * other**-1\n",
    "    \n",
    "    def __neg__(self): # -self\n",
    "        return self * -1\n",
    "    \n",
    "    def __sub__(self, other): # self - other\n",
    "        return self + (-other)\n",
    "    \n",
    "    def __radd__(self, other): # other + self\n",
    "        return self + other\n",
    "    \n",
    "    def tanh(self):\n",
    "        x = self.data\n",
    "        t = (math.exp(2*x) - 1)/(math.exp(2*x) + 1)\n",
    "        out = Value(t, (self, ), 'tanh')\n",
    "        \n",
    "        def _backward():\n",
    "            self.grad += (1 - t**2) * out.grad\n",
    "        out._backward = _backward\n",
    "            \n",
    "        return out\n",
    "    \n",
    "    def exp(self):\n",
    "        x = self.data\n",
    "        out = Value(math.exp(x), (self, ), 'exp')\n",
    "        \n",
    "        def _backward():\n",
    "            self.grad += out.data * out.grad\n",
    "        out._backward = _backward\n",
    "        return out\n",
    "    \n",
    "    def backward(self):\n",
    "\n",
    "        topo = []\n",
    "        visited = set()\n",
    "        def build_topo(v):\n",
    "            if v not in visited:\n",
    "                visited.add(v)\n",
    "                for child in v._prev:\n",
    "                    build_topo(child)\n",
    "                topo.append(v)\n",
    "        build_topo(self)\n",
    "        \n",
    "        self.grad = 1.0\n",
    "        for node in reversed(topo):\n",
    "            node._backward()\n",
    "        \n",
    "\n",
    "# a = Value(2.0, label = 'a')\n",
    "# b = Value(-3.0, label = 'b')\n",
    "# c = Value(10.0, label = 'c')\n",
    "# e = a * b; e.label = 'e'\n",
    "# d = e + c; d.label = 'd'\n",
    "# f = Value(-2.0, label = 'f')\n",
    "# L = d * f; L.label = 'L'\n",
    "# L"
   ]
  },
  {
   "cell_type": "code",
   "execution_count": null,
   "id": "5d6b5e42-f3b0-4137-b500-26696c08e9f7",
   "metadata": {
    "tags": []
   },
   "outputs": [],
   "source": [
    "a = Value(2.0)\n",
    "b = Value(4.0)\n",
    "a - b"
   ]
  },
  {
   "cell_type": "code",
   "execution_count": null,
   "id": "7bde2636-cea2-437d-a871-fd692d191234",
   "metadata": {},
   "outputs": [],
   "source": [
    "# a / b\n",
    "# a * (1/b)\n",
    "# a * (b**-1)\n",
    "\n",
    "# x**k\n"
   ]
  },
  {
   "cell_type": "code",
   "execution_count": null,
   "id": "7e33a569-9d81-470a-b254-c5e0c4d4337f",
   "metadata": {},
   "outputs": [],
   "source": [
    "from graphviz import Digraph\n",
    "\n",
    "def trace(root):\n",
    "    # builds a set of all nodes and edges in a graph\n",
    "    nodes, edges = set(), set()\n",
    "    def build(v):\n",
    "        if v not in nodes:\n",
    "            nodes.add(v)\n",
    "            for child in v._prev:\n",
    "                edges.add((child, v))\n",
    "                build(child)\n",
    "    build(root)\n",
    "    return nodes, edges\n",
    "\n",
    "def draw_dot(root):\n",
    "    dot = Digraph(format='svg', graph_attr={'rankdir': 'LR'}) # LR = left ro right\n",
    "\n",
    "    nodes, edges = trace(root)\n",
    "    for n in nodes:\n",
    "        uid = str(id(n))\n",
    "        # for any value in the graph, create a rectangulat ('record') node for it\n",
    "        dot.node(name = uid, label = \"{ %s | data %.4f | grad %.4f }\" % (n.label, n.data, n.grad), shape='record')\n",
    "        if n._op:\n",
    "            # if this value is a result of some operation, create an op node for it\n",
    "            dot.node(name = uid + n._op, label = n._op)\n",
    "            # and connect this node to it\n",
    "            dot.edge(uid + n._op, uid)\n",
    "\n",
    "    for n1, n2 in edges:\n",
    "        # connect n1 to the op node of n2\n",
    "        dot.edge(str(id(n1)), str(id(n2)) + n2._op)\n",
    "\n",
    "    return dot"
   ]
  },
  {
   "cell_type": "code",
   "execution_count": null,
   "id": "c306b7a1-b54f-49bd-b451-3c3af7e9314a",
   "metadata": {},
   "outputs": [],
   "source": [
    "# L.grad = 1\n",
    "# f.grad = 4.0\n",
    "# d.grad = -2.0\n",
    "# c.grad = -2.0\n",
    "# e.grad = -2.0\n",
    "# a.grad = -2.0 * -3.0\n",
    "# b.grad = -2.0 * 2.0\n"
   ]
  },
  {
   "cell_type": "code",
   "execution_count": null,
   "id": "b724fdf1-af9d-4c0a-af05-ab1b40cad7d4",
   "metadata": {
    "scrolled": true
   },
   "outputs": [],
   "source": [
    "# draw_dot(L)"
   ]
  },
  {
   "cell_type": "code",
   "execution_count": null,
   "id": "2dc16020-0964-4497-a2f6-06f9fb67e9d9",
   "metadata": {},
   "outputs": [],
   "source": [
    "# a.data += 0.01 * a.grad\n",
    "# b.data += 0.01 * b.grad\n",
    "# c.data += 0.01 * c.grad\n",
    "# f.data += 0.01 * f.grad\n",
    "\n",
    "# e = a * b\n",
    "# d = e + c\n",
    "# L = d * f\n",
    "\n",
    "# print(L.data)"
   ]
  },
  {
   "cell_type": "code",
   "execution_count": null,
   "id": "b8bdb4c4-2171-4ed5-823f-304e28aeb7ca",
   "metadata": {
    "tags": []
   },
   "outputs": [],
   "source": [
    "# inputs x1, x2\n",
    "x1 = Value(2.0, label='x1')\n",
    "x2 = Value(0.0, label='x2')\n",
    "#weights w1, w2\n",
    "w1 = Value(-3.0, label='w1')\n",
    "w2 = Value(1.0, label='w2')\n",
    "#bias of the neuron\n",
    "b = Value(6.8813735870195432, label='b')\n",
    "# x1*w1 +x2*w2 + b\n",
    "x1w1 = x1*w1; x1w1.label = 'x1*w1'\n",
    "x2w2 = x2*w2; x2w2.label = 'x2*w2'\n",
    "x1w1x2w2 = x1w1 + x2w2; x1w1x2w2.label = 'x1*w1 + x2*w2'\n",
    "n = x1w1x2w2 + b; n.label = 'n'\n",
    "o = n.tanh(); o.label = 'o'\n",
    "o.backward()\n"
   ]
  },
  {
   "cell_type": "code",
   "execution_count": null,
   "id": "f00723c3-9ef4-4cbe-92d8-cab97c37f5a6",
   "metadata": {
    "tags": []
   },
   "outputs": [],
   "source": [
    "draw_dot(o)"
   ]
  },
  {
   "cell_type": "code",
   "execution_count": null,
   "id": "951cbc86-3055-4273-9156-9d43eff3cfd4",
   "metadata": {
    "tags": []
   },
   "outputs": [],
   "source": [
    "# inputs x1, x2\n",
    "x1 = Value(2.0, label='x1')\n",
    "x2 = Value(0.0, label='x2')\n",
    "#weights w1, w2\n",
    "w1 = Value(-3.0, label='w1')\n",
    "w2 = Value(1.0, label='w2')\n",
    "#bias of the neuron\n",
    "b = Value(6.8813735870195432, label='b')\n",
    "# x1*w1 +x2*w2 + b\n",
    "x1w1 = x1*w1; x1w1.label = 'x1*w1'\n",
    "x2w2 = x2*w2; x2w2.label = 'x2*w2'\n",
    "x1w1x2w2 = x1w1 + x2w2; x1w1x2w2.label = 'x1*w1 + x2*w2'\n",
    "n = x1w1x2w2 + b; n.label = 'n'\n",
    "# ----\n",
    "e = (2*n).exp()\n",
    "o = (e -1) / (e + 1)\n",
    "# ----\n",
    "o.label = 'o'\n",
    "o.backward()\n",
    "draw_dot(o)"
   ]
  },
  {
   "cell_type": "code",
   "execution_count": null,
   "id": "96155173-783a-4eed-928d-26286fe5639e",
   "metadata": {
    "tags": []
   },
   "outputs": [],
   "source": [
    "# topo = []\n",
    "# visited = set()\n",
    "# def build_topo(v):\n",
    "#     if v not in visited:\n",
    "#         visited.add(v)\n",
    "#         for child in v._prev:\n",
    "#             build_topo(child)\n",
    "#         topo.append(v)\n",
    "# build_topo(o)\n",
    "# topo"
   ]
  },
  {
   "cell_type": "code",
   "execution_count": null,
   "id": "f7b2daa6-24e5-45ad-b832-3b584419c171",
   "metadata": {
    "tags": []
   },
   "outputs": [],
   "source": [
    "import torch\n",
    "x1 = torch.Tensor([2.0]).double()  ; x1.requires_grad = True\n",
    "x2 = torch.Tensor([0.0]).double()  ; x2.requires_grad = True\n",
    "w1 = torch.Tensor([-3.0]).double()  ; w1.requires_grad = True\n",
    "w2 = torch.Tensor([1.0]).double()  ; w2.requires_grad = True\n",
    "b = torch.Tensor([6.8813735870195432]).double()  ; b.requires_grad = True\n",
    "n = x1*w1 + x2*w2 + b\n",
    "o = torch.tanh(n)\n",
    "\n",
    "print(o.data.item())\n",
    "o.backward()\n",
    "\n",
    "print('---')\n",
    "print('x2', x2.grad.item())\n",
    "print('w2', w2.grad.item())\n",
    "print('x1', x1.grad.item())\n",
    "print('w1', w1.grad.item())"
   ]
  },
  {
   "cell_type": "code",
   "execution_count": null,
   "id": "667e262d-c40b-45ea-b904-446d39fa8d7f",
   "metadata": {
    "tags": []
   },
   "outputs": [],
   "source": [
    "# torch.Tensor([[1., 2., 3.],\n",
    "#               [4., 5., 6.]]).shape\n",
    "# torch.Tensor([2.0]).double().dtype"
   ]
  },
  {
   "cell_type": "code",
   "execution_count": null,
   "id": "e80c9fb1-4e1b-4f4a-beb1-b5f0e403e33a",
   "metadata": {
    "tags": []
   },
   "outputs": [],
   "source": [
    "o"
   ]
  },
  {
   "cell_type": "code",
   "execution_count": null,
   "id": "b9d5d274-9acc-4390-a125-9e9caae130b5",
   "metadata": {
    "tags": []
   },
   "outputs": [],
   "source": [
    "o.item()"
   ]
  },
  {
   "cell_type": "code",
   "execution_count": null,
   "id": "b0cd4173-5110-44e1-aaba-da9159c77948",
   "metadata": {
    "tags": []
   },
   "outputs": [],
   "source": [
    "\n",
    "class Neuron:\n",
    "    \n",
    "    def __init__(self, nin):\n",
    "        self.w = [Value(random.uniform(-1,1)) for _ in range(nin)]\n",
    "        self.b = Value(random.uniform(-1,1))\n",
    "        \n",
    "    def __call__(self, x):\n",
    "       # w * x + b\n",
    "#      print(list(zip(self.w, x)))\n",
    "        act = sum((wi*xi for wi, xi in zip(self.w, x)), self.b)\n",
    "        out = act.tanh()\n",
    "        return out\n",
    "    \n",
    "    def parameters(self):\n",
    "        return self.w + [self.b]\n",
    "    \n",
    "class Layer:\n",
    "    def __init__(self, nin, nout):\n",
    "        self.neurons = [Neuron(nin) for _ in range(nout)]\n",
    "        \n",
    "    def __call__(self, x):\n",
    "        outs = [n(x) for n in self.neurons]\n",
    "        return outs[0] if len(outs) == 1 else outs\n",
    "    \n",
    "    def parameters(self):\n",
    "        return [p for neuron in self.neurons for p in neuron.parameters()]\n",
    "        # params = []\n",
    "        # for neuron in self.neurons:\n",
    "        #     ps = neuron.parameters()\n",
    "        #     params.extend(ps)\n",
    "        # return params\n",
    "\n",
    "class MLP:\n",
    "    def __init__(self, nin, nouts):\n",
    "        sz = [nin] + nouts\n",
    "        self.layers = [Layer(sz[i], sz[i+1]) for i in range(len(nouts))]\n",
    "        \n",
    "    def __call__(self, x):\n",
    "        for layer in self.layers:\n",
    "            x = layer(x)\n",
    "        return x\n",
    "    def parameters(self):\n",
    "        return [p for layer in self.layers for p in layer.parameters()]\n",
    "\n"
   ]
  },
  {
   "cell_type": "code",
   "execution_count": 424,
   "id": "02bc856d-1255-4f71-9e85-8604fec15f69",
   "metadata": {},
   "outputs": [
    {
     "data": {
      "text/plain": [
       "Value(data=-0.9627483295057608)"
      ]
     },
     "execution_count": 424,
     "metadata": {},
     "output_type": "execute_result"
    }
   ],
   "source": [
    "x = [2.0, 3.0, -1.0]\n",
    "n = MLP(3, [4, 4, 1])\n",
    "n(x)"
   ]
  },
  {
   "cell_type": "code",
   "execution_count": null,
   "id": "ec21d743-2f9e-4c08-b917-7d45fe32400a",
   "metadata": {
    "tags": []
   },
   "outputs": [],
   "source": [
    "# n.parameters()\n",
    "# len(n.parameters())"
   ]
  },
  {
   "cell_type": "code",
   "execution_count": null,
   "id": "0fd0f417-e137-49b1-95e5-1d5b8909502e",
   "metadata": {
    "tags": []
   },
   "outputs": [],
   "source": [
    "# draw_dot(n(x))"
   ]
  },
  {
   "cell_type": "code",
   "execution_count": 425,
   "id": "2c40b4c9-3837-49bd-9e0b-0c2630479460",
   "metadata": {
    "tags": []
   },
   "outputs": [],
   "source": [
    "xs = [\n",
    "    [2.0, 3.0, -1.0],\n",
    "    [3.0, -1.0, 0.5],\n",
    "    [0.5, 1.0, 1.0],\n",
    "    [1.0, 1.0, -1.0],\n",
    "]\n",
    "ys = [1.0, -1.0, -1.0, 1.0] # desired targets"
   ]
  },
  {
   "cell_type": "code",
   "execution_count": null,
   "id": "2224c4e1-6cdb-4182-93f7-66e898aa93bd",
   "metadata": {
    "tags": []
   },
   "outputs": [],
   "source": [
    "# [(yout - ygt)**2 for ygt, yout in zip(ys, ypred)]"
   ]
  },
  {
   "cell_type": "code",
   "execution_count": null,
   "id": "839786b9-5174-482c-b36e-85f034bcd1d7",
   "metadata": {},
   "outputs": [],
   "source": [
    "# ypred = [n(x) for x in xs]\n",
    "# loss = sum((yout - ygt)**2 for ygt, yout in zip(ys, ypred))\n",
    "# loss"
   ]
  },
  {
   "cell_type": "code",
   "execution_count": null,
   "id": "c790905c-b86e-4c14-ab89-59b52def7d7d",
   "metadata": {
    "tags": []
   },
   "outputs": [],
   "source": [
    "# ypred = [n(x) for x in xs]\n",
    "# loss = sum((yout - ygt)**2 for ygt, yout in zip(ys, ypred))\n",
    "# loss"
   ]
  },
  {
   "cell_type": "code",
   "execution_count": null,
   "id": "9410b6a0-4ad8-415f-a599-2570e3ba24d0",
   "metadata": {
    "tags": []
   },
   "outputs": [],
   "source": [
    "# n.parameters()\n",
    "# len(n.parameters())"
   ]
  },
  {
   "cell_type": "code",
   "execution_count": 441,
   "id": "91f0d771-a867-46e0-b990-6a39b5b5a73b",
   "metadata": {
    "tags": []
   },
   "outputs": [
    {
     "name": "stdout",
     "output_type": "stream",
     "text": [
      "0 0.002766562137370118\n",
      "1 0.0027459236391107014\n",
      "2 0.0027255737371351335\n",
      "3 0.002705506522482296\n",
      "4 0.0026857162450255913\n",
      "5 0.0026661973081998497\n",
      "6 0.0026469442639362032\n",
      "7 0.002627951807795577\n",
      "8 0.0026092147742914212\n",
      "9 0.0025907281323934326\n",
      "10 0.0025724869812042174\n",
      "11 0.0025544865458009764\n",
      "12 0.002536722173235138\n",
      "13 0.0025191893286828615\n",
      "14 0.0025018835917399746\n",
      "15 0.0024848006528548593\n",
      "16 0.0024679363098936745\n",
      "17 0.002451286464831824\n",
      "18 0.002434847120566722\n",
      "19 0.002418614377846333\n"
     ]
    }
   ],
   "source": [
    "# ypred = [n(x) for x in xs]\n",
    "# loss = sum((yout - ygt)**2 for ygt, yout in zip(ys, ypred))\n",
    "# loss\n",
    "\n",
    "\n",
    "for k in range(20):\n",
    "  \n",
    "  # forward pass\n",
    "  ypred = [n(x) for x in xs]\n",
    "  loss = sum((yout - ygt)**2 for ygt, yout in zip(ys, ypred))\n",
    "  \n",
    "  # backward pass\n",
    "  for p in n.parameters():\n",
    "    p.grad = 0.0\n",
    "  loss.backward()\n",
    "  \n",
    "  # update\n",
    "  for p in n.parameters():\n",
    "    p.data += -0.1 * p.grad\n",
    "  \n",
    "  print(k, loss.data)\n",
    "  \n",
    "\n"
   ]
  },
  {
   "cell_type": "code",
   "execution_count": null,
   "id": "72aa4934-5ef5-48d8-8b51-e18261698ec2",
   "metadata": {
    "tags": []
   },
   "outputs": [],
   "source": [
    "loss.backward()"
   ]
  },
  {
   "cell_type": "code",
   "execution_count": null,
   "id": "a537b2bd-ffaa-43f3-a05d-c091956890e2",
   "metadata": {},
   "outputs": [],
   "source": [
    "n.layers[0].neurons[0].w[0]"
   ]
  },
  {
   "cell_type": "code",
   "execution_count": null,
   "id": "e2722f02-6091-4a57-8664-6e71aa812daf",
   "metadata": {
    "tags": []
   },
   "outputs": [],
   "source": [
    "n.layers[0].neurons[0].w[0].grad # gradient on the loss"
   ]
  },
  {
   "cell_type": "code",
   "execution_count": null,
   "id": "44d05a71-4050-41c5-8d1c-f0f94e498db4",
   "metadata": {
    "tags": []
   },
   "outputs": [],
   "source": [
    "n.layers[0].neurons[0].w[0].data # value of neuron"
   ]
  },
  {
   "cell_type": "code",
   "execution_count": null,
   "id": "4afbc9b7-c6f7-446a-bdc9-eabe46a36168",
   "metadata": {
    "tags": []
   },
   "outputs": [],
   "source": [
    "for p in n.parameters():\n",
    "    p.data += -0.01 * (p.grad+1)"
   ]
  },
  {
   "cell_type": "code",
   "execution_count": null,
   "id": "1175f52d-7525-4806-9112-bf155ba3ca9d",
   "metadata": {
    "tags": []
   },
   "outputs": [],
   "source": [
    "# draw_dot(loss)"
   ]
  },
  {
   "cell_type": "code",
   "execution_count": null,
   "id": "10cc7ea2-4498-4526-8bb9-9c0861639542",
   "metadata": {
    "tags": []
   },
   "outputs": [],
   "source": [
    "n.layers[0].neurons[0].w[0].data # value of neuron"
   ]
  },
  {
   "cell_type": "code",
   "execution_count": 445,
   "id": "d15c1026-9b5c-496e-843f-8bbc83b768bd",
   "metadata": {
    "tags": []
   },
   "outputs": [
    {
     "data": {
      "text/plain": [
       "[Value(data=0.9800755997126933),\n",
       " Value(data=-0.9678426314846771),\n",
       " Value(data=-0.9825837138776073),\n",
       " Value(data=0.9738426056551847)]"
      ]
     },
     "execution_count": 445,
     "metadata": {},
     "output_type": "execute_result"
    }
   ],
   "source": [
    "ypred"
   ]
  }
 ],
 "metadata": {
  "kernelspec": {
   "display_name": "Python 3 (ipykernel)",
   "language": "python",
   "name": "python3"
  },
  "language_info": {
   "codemirror_mode": {
    "name": "ipython",
    "version": 3
   },
   "file_extension": ".py",
   "mimetype": "text/x-python",
   "name": "python",
   "nbconvert_exporter": "python",
   "pygments_lexer": "ipython3",
   "version": "3.11.3"
  }
 },
 "nbformat": 4,
 "nbformat_minor": 5
}
