{
 "cells": [
  {
   "cell_type": "code",
   "execution_count": null,
   "id": "b148b4fb-68fa-4d96-abf5-96b7f29f19cf",
   "metadata": {},
   "outputs": [],
   "source": []
  }
 ],
 "metadata": {
  "kernelspec": {
   "display_name": "",
   "name": ""
  },
  "language_info": {
   "name": ""
  }
 },
 "nbformat": 4,
 "nbformat_minor": 5
}
